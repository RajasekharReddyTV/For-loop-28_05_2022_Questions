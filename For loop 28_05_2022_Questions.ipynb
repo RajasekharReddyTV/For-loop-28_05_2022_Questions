{
 "cells": [
  {
   "cell_type": "raw",
   "id": "e8303f2f",
   "metadata": {},
   "source": [
    "Q1.\n",
    "ineruon \n",
    "ineruon ineruon \n",
    "ineruon ineruon ineruon\n",
    "ineruon ineruon ineruon ineruon\n"
   ]
  },
  {
   "cell_type": "code",
   "execution_count": 2,
   "id": "39880e86",
   "metadata": {},
   "outputs": [
    {
     "name": "stdout",
     "output_type": "stream",
     "text": [
      "iNeuron \n",
      "\n",
      "iNeuron iNeuron \n",
      "\n",
      "iNeuron iNeuron iNeuron \n",
      "\n",
      "iNeuron iNeuron iNeuron iNeuron \n",
      "\n"
     ]
    }
   ],
   "source": [
    "for i in range(4):\n",
    "    for j in range(i+1):\n",
    "        print(\"iNeuron\", end = \" \" )\n",
    "    print('\\n')"
   ]
  },
  {
   "cell_type": "raw",
   "id": "2c79561c",
   "metadata": {},
   "source": [
    "q2 - \n",
    "\n",
    "          ineruon\n",
    "    ineruon      ineruon\n",
    "ineruon\t\tineruon \tineruon\n",
    "\tineruon\t\t ineruon\n",
    "\t\t  ineruon"
   ]
  },
  {
   "cell_type": "code",
   "execution_count": 62,
   "id": "228970b0",
   "metadata": {
    "scrolled": true
   },
   "outputs": [
    {
     "name": "stdout",
     "output_type": "stream",
     "text": [
      "              iNeuron       \n",
      "\n",
      "       iNeuron       iNeuron       \n",
      "\n",
      "iNeuron       iNeuron       iNeuron       \n",
      "\n",
      "       iNeuron       iNeuron       \n",
      "\n",
      "              iNeuron       \n",
      "\n"
     ]
    }
   ],
   "source": [
    "n = o = q= 3\n",
    "x = n-1\n",
    "for i in range(n):\n",
    "    o = o-1\n",
    "    for j in range(o):\n",
    "        print (\" \"*(len('iNeuron')), end = \"\")\n",
    "    for k in range(i+1):\n",
    "        print ('iNeuron', end = \" \"*(len('iNeuron')))\n",
    "    print ('\\n')\n",
    "for l in range(x):\n",
    "    q = q-1\n",
    "    for m in range(l+1):\n",
    "        print (\" \"*(len('iNeuron')), end = \"\")\n",
    "    for p in range(q):\n",
    "        print ('iNeuron', end = \" \"*(len('iNeuron')))\n",
    "    print('\\n')\n",
    "        \n",
    "        \n",
    "    \n",
    "        "
   ]
  },
  {
   "cell_type": "code",
   "execution_count": 70,
   "id": "5562e69e",
   "metadata": {},
   "outputs": [],
   "source": [
    "l = [[1,2,3,4] , (2,3,4,5,6) , (3,4,5,6,7) , set([23,4,5,45,4,4,5,45,45,4,5]) , {'k1' :\"sudh\" , \"k2\" : \"ineuron\",\"k3\":\n",
    "            \"kumar\" , 3:6 , 7:8} , [\"ineuron\" , \"data science \"]]"
   ]
  },
  {
   "cell_type": "code",
   "execution_count": 71,
   "id": "fb6503d5",
   "metadata": {},
   "outputs": [
    {
     "name": "stdout",
     "output_type": "stream",
     "text": [
      "[1, 2, 3, 4]\n",
      "['ineuron', 'data science ']\n"
     ]
    }
   ],
   "source": [
    "for i in l:\n",
    "    if type(i)== list:\n",
    "        print(i)"
   ]
  },
  {
   "cell_type": "code",
   "execution_count": 72,
   "id": "85415d8c",
   "metadata": {},
   "outputs": [
    {
     "name": "stdout",
     "output_type": "stream",
     "text": [
      "{'k1': 'sudh', 'k2': 'ineuron', 'k3': 'kumar', 3: 6, 7: 8}\n"
     ]
    }
   ],
   "source": [
    "for i in l:\n",
    "    if type(i)== dict:\n",
    "        print(i)"
   ]
  },
  {
   "cell_type": "code",
   "execution_count": 73,
   "id": "ee0f9ca1",
   "metadata": {},
   "outputs": [
    {
     "name": "stdout",
     "output_type": "stream",
     "text": [
      "(2, 3, 4, 5, 6)\n",
      "(3, 4, 5, 6, 7)\n"
     ]
    }
   ],
   "source": [
    "for i in l:\n",
    "    if type(i)== tuple:\n",
    "        print(i)"
   ]
  },
  {
   "cell_type": "code",
   "execution_count": 74,
   "id": "0e5904de",
   "metadata": {},
   "outputs": [
    {
     "name": "stdout",
     "output_type": "stream",
     "text": [
      "{45, 4, 5, 23}\n"
     ]
    }
   ],
   "source": [
    "for i in l:\n",
    "    if type(i)== set:\n",
    "        print(i)"
   ]
  },
  {
   "cell_type": "code",
   "execution_count": 111,
   "id": "eb7e3b20",
   "metadata": {},
   "outputs": [
    {
     "name": "stdout",
     "output_type": "stream",
     "text": [
      "1\n",
      "2\n",
      "3\n",
      "4\n",
      "2\n",
      "3\n",
      "4\n",
      "5\n",
      "6\n",
      "3\n",
      "4\n",
      "5\n",
      "6\n",
      "7\n",
      "45\n",
      "4\n",
      "5\n",
      "23\n",
      "3\n",
      "6\n",
      "7\n",
      "8\n"
     ]
    }
   ],
   "source": [
    "for i in l:\n",
    "    if type(i)==list or type(i)== tuple or type(i)==set:\n",
    "        for j in i:\n",
    "            if type(j)==int:\n",
    "                print (j)\n",
    "    if type(i) == dict:\n",
    "        for k,m in i.items():\n",
    "            if type(k) == int :\n",
    "                print(k)\n",
    "            if type(m)==int:\n",
    "                print(m)\n",
    "            \n",
    "        "
   ]
  },
  {
   "cell_type": "code",
   "execution_count": 110,
   "id": "40a57238",
   "metadata": {},
   "outputs": [
    {
     "name": "stdout",
     "output_type": "stream",
     "text": [
      "156\n"
     ]
    }
   ],
   "source": [
    "SUM = 0\n",
    "for i in l:\n",
    "    if type(i)==list or type(i)== tuple or type(i)==set:\n",
    "        for j in i:\n",
    "            if type(j)==int:\n",
    "                SUM = SUM+j\n",
    "    if type(i) == dict:\n",
    "        for k,m in i.items():\n",
    "            if type(k) == int :\n",
    "                 SUM = SUM+k\n",
    "            if type(m)==int:\n",
    "                 SUM = SUM+m\n",
    "\n",
    "print(SUM)\n",
    "            "
   ]
  },
  {
   "cell_type": "code",
   "execution_count": 95,
   "id": "bf68c045",
   "metadata": {},
   "outputs": [
    {
     "name": "stdout",
     "output_type": "stream",
     "text": [
      "1\n",
      "3\n"
     ]
    }
   ],
   "source": [
    "for i in l:\n",
    "    if type(i)== list:\n",
    "        for j in i:\n",
    "            if type(j)==int:\n",
    "                if j%2 == 1:\n",
    "                    print(j)\n",
    "        "
   ]
  },
  {
   "cell_type": "code",
   "execution_count": 96,
   "id": "8eff08e6",
   "metadata": {},
   "outputs": [
    {
     "data": {
      "text/plain": [
       "[[1, 2, 3, 4],\n",
       " (2, 3, 4, 5, 6),\n",
       " (3, 4, 5, 6, 7),\n",
       " {4, 5, 23, 45},\n",
       " {'k1': 'sudh', 'k2': 'ineuron', 'k3': 'kumar', 3: 6, 7: 8},\n",
       " ['ineuron', 'data science ']]"
      ]
     },
     "execution_count": 96,
     "metadata": {},
     "output_type": "execute_result"
    }
   ],
   "source": [
    "l"
   ]
  },
  {
   "cell_type": "code",
   "execution_count": 109,
   "id": "e957ee17",
   "metadata": {},
   "outputs": [
    {
     "name": "stdout",
     "output_type": "stream",
     "text": [
      "ineuron\n",
      "ineuron\n"
     ]
    }
   ],
   "source": [
    "for i in l:\n",
    "    if type(i)==list or type(i)== tuple or type(i)==set:\n",
    "        for j in i:\n",
    "            if j =='ineuron':\n",
    "                print (j)\n",
    "    if type(i) == dict:\n",
    "        for k,m in i.items():\n",
    "            if k == 'ineuron' :\n",
    "                print(k)\n",
    "            if m=='ineuron':\n",
    "                print(m)"
   ]
  },
  {
   "cell_type": "code",
   "execution_count": 114,
   "id": "43820374",
   "metadata": {},
   "outputs": [
    {
     "name": "stdout",
     "output_type": "stream",
     "text": [
      "[1, 2, 3, 4, 2, 3, 4, 5, 6, 3, 4, 5, 6, 7, 45, 4, 5, 23, 'k1', 'sudh', 'k2', 'ineuron', 'k3', 'kumar', 3, 6, 7, 8, 'ineuron', 'data science ']\n",
      "1 : 1\n",
      "2 : 2\n",
      "3 : 4\n",
      "4 : 4\n",
      "5 : 3\n",
      "6 : 3\n",
      "7 : 2\n",
      "ineuron : 2\n",
      "kumar : 1\n",
      "k1 : 1\n",
      "8 : 1\n",
      "data science  : 1\n",
      "45 : 1\n",
      "sudh : 1\n",
      "k3 : 1\n",
      "23 : 1\n",
      "k2 : 1\n"
     ]
    }
   ],
   "source": [
    "l1 = []\n",
    "for i in l:\n",
    "    if type(i)==list or type(i)== tuple or type(i)==set:\n",
    "        for j in i:\n",
    "            l1.append(j)\n",
    "    if type(i) == dict:\n",
    "        for k,m in i.items():\n",
    "            l1.append(k)\n",
    "            l1.append(m)\n",
    "print(l1)\n",
    "for n in set(l1):\n",
    "    print (n, ':', l1.count(n))\n",
    "\n",
    "            "
   ]
  },
  {
   "cell_type": "code",
   "execution_count": 116,
   "id": "dfeda0ec",
   "metadata": {},
   "outputs": [
    {
     "data": {
      "text/plain": [
       "[[1, 2, 3, 4],\n",
       " (2, 3, 4, 5, 6),\n",
       " (3, 4, 5, 6, 7),\n",
       " {4, 5, 23, 45},\n",
       " {'k1': 'sudh', 'k2': 'ineuron', 'k3': 'kumar', 3: 6, 7: 8},\n",
       " ['ineuron', 'data science ']]"
      ]
     },
     "execution_count": 116,
     "metadata": {},
     "output_type": "execute_result"
    }
   ],
   "source": [
    "l"
   ]
  },
  {
   "cell_type": "code",
   "execution_count": 121,
   "id": "fe556a19",
   "metadata": {},
   "outputs": [
    {
     "name": "stdout",
     "output_type": "stream",
     "text": [
      "Number of keys in dictionary  =   5\n"
     ]
    }
   ],
   "source": [
    "key_Count = 0\n",
    "for i in l:\n",
    "    if type(i) == dict:\n",
    "        for j in i:\n",
    "            key_Count = key_Count +1\n",
    "print('Number of keys in dictionary  =  ' ,key_Count)"
   ]
  },
  {
   "cell_type": "code",
   "execution_count": 122,
   "id": "b49a2a32",
   "metadata": {},
   "outputs": [
    {
     "name": "stdout",
     "output_type": "stream",
     "text": [
      "k1\n",
      "sudh\n",
      "k2\n",
      "ineuron\n",
      "k3\n",
      "kumar\n",
      "ineuron\n",
      "data science \n"
     ]
    }
   ],
   "source": [
    "for i in l:\n",
    "    if type(i)==list or type(i)== tuple or type(i)==set:\n",
    "        for j in i:\n",
    "            if type(j)==str:\n",
    "                print (j)\n",
    "    if type(i) == dict:\n",
    "        for k,m in i.items():\n",
    "            if type(k) == str :\n",
    "                print(k)\n",
    "            if type(m)==str:\n",
    "                print(m)\n",
    "            "
   ]
  },
  {
   "cell_type": "code",
   "execution_count": 127,
   "id": "bd3526c7",
   "metadata": {},
   "outputs": [
    {
     "name": "stdout",
     "output_type": "stream",
     "text": [
      "k1\n",
      "sudh\n",
      "k2\n",
      "ineuron\n",
      "k3\n",
      "kumar\n",
      "ineuron\n"
     ]
    }
   ],
   "source": [
    "for i in l:\n",
    "    if type(i)==list or type(i)== tuple or type(i)==set:\n",
    "        for j in i:\n",
    "            if type(j) == str:\n",
    "                if j.isalnum():\n",
    "                    print (j)\n",
    "    if type(i) == dict:\n",
    "        for k,m in i.items():\n",
    "            if type(k)==str:\n",
    "                if k.isalnum() :\n",
    "                    print(k)\n",
    "            if type(m) == str:\n",
    "                if m.isalnum():\n",
    "                    print(m)\n",
    "            "
   ]
  },
  {
   "cell_type": "code",
   "execution_count": 128,
   "id": "f171d54c",
   "metadata": {},
   "outputs": [
    {
     "data": {
      "text/plain": [
       "[[1, 2, 3, 4],\n",
       " (2, 3, 4, 5, 6),\n",
       " (3, 4, 5, 6, 7),\n",
       " {4, 5, 23, 45},\n",
       " {'k1': 'sudh', 'k2': 'ineuron', 'k3': 'kumar', 3: 6, 7: 8},\n",
       " ['ineuron', 'data science ']]"
      ]
     },
     "execution_count": 128,
     "metadata": {},
     "output_type": "execute_result"
    }
   ],
   "source": [
    "l"
   ]
  },
  {
   "cell_type": "code",
   "execution_count": 130,
   "id": "7de96ff0",
   "metadata": {},
   "outputs": [
    {
     "name": "stdout",
     "output_type": "stream",
     "text": [
      "List_Multiply =  24 Tuple_Multiply =  1814400 set_Multiply =  20700 Dict_Multiply =  1008\n"
     ]
    }
   ],
   "source": [
    "L_MUL = 1\n",
    "T_MUL = 1\n",
    "S_MUL = 1\n",
    "D_MUL = 1\n",
    "for i in l:\n",
    "    if type(i)==list:\n",
    "        for j in i:\n",
    "            if type(j)==int:\n",
    "                L_MUL = L_MUL* j\n",
    "    if type(i)== tuple :\n",
    "        for k in i:\n",
    "            if type(k)==int:\n",
    "                T_MUL = T_MUL* k\n",
    "    if type(i)== set:\n",
    "        for m in i:\n",
    "            if type(m)==int:\n",
    "                S_MUL = S_MUL* m\n",
    "        \n",
    "    if type(i) == dict:\n",
    "        for n,o in i.items():\n",
    "            if type(n) == int :\n",
    "                 D_MUL = D_MUL * n\n",
    "            if type(o)==int:\n",
    "                 D_MUL = D_MUL * o\n",
    "\n",
    "print(\"List_Multiply = \",L_MUL, \"Tuple_Multiply = \",T_MUL, \"set_Multiply = \", S_MUL,\"Dict_Multiply = \",D_MUL )"
   ]
  },
  {
   "cell_type": "code",
   "execution_count": 131,
   "id": "d45ba5ca",
   "metadata": {},
   "outputs": [
    {
     "name": "stdout",
     "output_type": "stream",
     "text": [
      "[1, 2, 3, 4, 2, 3, 4, 5, 6, 3, 4, 5, 6, 7, 45, 4, 5, 23, 'k1', 'sudh', 'k2', 'ineuron', 'k3', 'kumar', 3, 6, 7, 8, 'ineuron', 'data science ']\n"
     ]
    }
   ],
   "source": [
    "l1 = []\n",
    "for i in l:\n",
    "    if type(i)==list or type(i)== tuple or type(i)==set:\n",
    "        for j in i:\n",
    "            l1.append(j)\n",
    "    if type(i) == dict:\n",
    "        for k,m in i.items():\n",
    "            l1.append(k)\n",
    "            l1.append(m)\n",
    "print(l1)"
   ]
  },
  {
   "cell_type": "code",
   "execution_count": null,
   "id": "dfbc86b5",
   "metadata": {},
   "outputs": [],
   "source": []
  }
 ],
 "metadata": {
  "kernelspec": {
   "display_name": "Python 3 (ipykernel)",
   "language": "python",
   "name": "python3"
  },
  "language_info": {
   "codemirror_mode": {
    "name": "ipython",
    "version": 3
   },
   "file_extension": ".py",
   "mimetype": "text/x-python",
   "name": "python",
   "nbconvert_exporter": "python",
   "pygments_lexer": "ipython3",
   "version": "3.9.12"
  }
 },
 "nbformat": 4,
 "nbformat_minor": 5
}
